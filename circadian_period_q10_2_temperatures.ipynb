{
  "nbformat": 4,
  "nbformat_minor": 0,
  "metadata": {
    "colab": {
      "name": "circadian_period_q10_2_temperatures.ipynb",
      "provenance": [],
      "collapsed_sections": [],
      "authorship_tag": "ABX9TyM98/vx3p56MogLTPA913RO",
      "include_colab_link": true
    },
    "kernelspec": {
      "name": "python3",
      "display_name": "Python 3"
    },
    "language_info": {
      "name": "python"
    }
  },
  "cells": [
    {
      "cell_type": "markdown",
      "metadata": {
        "id": "view-in-github",
        "colab_type": "text"
      },
      "source": [
        "<a href=\"https://colab.research.google.com/github/dxda6216/q10_two_temperatures/blob/main/circadian_period_q10_2_temperatures.ipynb\" target=\"_parent\"><img src=\"https://colab.research.google.com/assets/colab-badge.svg\" alt=\"Open In Colab\"/></a>"
      ]
    },
    {
      "cell_type": "markdown",
      "source": [
        "#Q<sub>10</sub> calculator (periods at two different temperatures)\n",
        "<pre>\n",
        "<b>Example dataset</b>\n",
        "<u>Temp (˚C)</u>   <u>Period (hr)</u>\n",
        "  32.5        28.5\n",
        "  37.2        24.2</pre>\n",
        "\n",
        "<pre><b>Enter the data into the input fields \"Temperature_1\",\n",
        "\"Period_1\", \"Temperature_2\", and \"Period_2\" as follows:</b>\n",
        "Temperature_1: <u>32.5              </u>\n",
        "Period_1: <u>28.5                   </u>\n",
        "Temperature_2: <u>37.2              </u>\n",
        "Period_2: <u>24.2                   </u>\n",
        "</pre>"
      ],
      "metadata": {
        "id": "6tSg2cQxA6Vb"
      }
    },
    {
      "cell_type": "code",
      "source": [
        "### This is a simple script to calculate Q10 values for circadian period on Colab.\n",
        "### Copyright (c) 2022 by dxda6216 (dxda6216 AT gmail DOT com)\n",
        "###\n",
        "#@title Q10\n",
        "import numpy as np\n",
        "# from scipy.optimize import curve_fit\n",
        "from matplotlib import pyplot as plt\n",
        "\n",
        "# Data description (plot title)\n",
        "Data_description = \"U2OS cells with 10 nM compound VUXC046197 (NOT real data)\" #@param {type:\"string\"}\n",
        "\n",
        "# Temperature data 1\n",
        "Temperature_1 =  32.5#@param {type:\"number\"}\n",
        "\n",
        "# Period data 1\n",
        "Period_1 = 28.5 #@param {type:\"number\"}\n",
        "\n",
        "# Temperature data 2\n",
        "Temperature_2 = 37.2 #@param {type:\"number\"}\n",
        "\n",
        "# Period data 2\n",
        "Period_2 =  24.2#@param {type:\"number\"}\n",
        "\n",
        "x = (Temperature_1, Temperature_2)\n",
        "y = (Period_1, Period_2)\n",
        "\n",
        "# Printing the data\n",
        "print('Period ', Period_1, 'hours at Temperature', Temperature_1, u'\\u00B0C')\n",
        "print('Period ', Period_2, 'hours at Temperature', Temperature_2, u'\\u00B0C', '\\n')\n",
        "\n",
        "# Set the starting and ending points of fitted curve.\n",
        "# This values are for plotting only and don't affect the Q10 estimation. \n",
        "fitted_curve_x_min = int( min(x) - ( max(x) - min(x) ) * 1.200 + 0.500 )\n",
        "fitted_curve_x_max = int( max(x) + ( max(x) - min(x) ) * 1.200 ) + 1\n",
        "\n",
        "print('Q10 = (', Period_1, '/', Period_2, ') ** ( 10 / (', Temperature_2, '-', Temperature_1, ') )', '\\n')\n",
        "\n",
        "fig = plt.figure(figsize = (8,6))\n",
        "plt.plot(x, y, 'o', color ='red', label ='data')\n",
        "\n",
        "if Temperature_1 == Temperature_2:\n",
        "  print('Temperature_1 and Temperature_2 are same and each equal to', Temperature_2)\n",
        "  print('Q10 value cannot be calculated.\\n')\n",
        "else:\n",
        "  Q10 = ( Period_1 / Period_2 ) ** ( 10 / ( Temperature_2 - Temperature_1 ) )\n",
        "  print(u'Q10 (temperature coefficient) =', '{:.3f}'.format(Q10), '\\n')\n",
        "  fcx = np.linspace(fitted_curve_x_min, fitted_curve_x_max, 200)\n",
        "  fcy = Period_1 / ( Q10 ** ( ( fcx - Temperature_1 ) * 0.100 ) )\n",
        "  plt.plot(fcx, fcy, '--', color='blue', label ='curve')\n",
        "\n",
        "### To adjust scales and ticks of X-axis & Y-axis, \n",
        "### change values in parentheses and remove #.\n",
        "# plt.xlim(25, 45)\n",
        "# plt.ylim(20, 30)\n",
        "# plt.xticks(np.arange(25, 46, 2))\n",
        "# plt.yticks(np.arange(20, 31, 1))\n",
        "\n",
        "plt.title(Data_description)\n",
        "plt.xlabel(u'Temperature (\\u00B0C)')\n",
        "plt.ylabel('Period (hours)')\n",
        "plt.legend()\n",
        "plt.show()\n",
        "\n",
        "### End of script\n"
      ],
      "metadata": {
        "cellView": "form",
        "id": "Gnt_NGkKBaki"
      },
      "execution_count": null,
      "outputs": []
    }
  ]
}