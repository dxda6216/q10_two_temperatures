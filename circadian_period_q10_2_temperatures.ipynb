{
  "nbformat": 4,
  "nbformat_minor": 0,
  "metadata": {
    "colab": {
      "name": "circadian_period_q10_2_temperatures.ipynb",
      "provenance": [],
      "collapsed_sections": [],
      "authorship_tag": "ABX9TyPYML3hdeXmFc1ohEdzNxZH",
      "include_colab_link": true
    },
    "kernelspec": {
      "name": "python3",
      "display_name": "Python 3"
    },
    "language_info": {
      "name": "python"
    }
  },
  "cells": [
    {
      "cell_type": "markdown",
      "metadata": {
        "id": "view-in-github",
        "colab_type": "text"
      },
      "source": [
        "<a href=\"https://colab.research.google.com/github/dxda6216/q10_two_temperatures/blob/main/circadian_period_q10_2_temperatures.ipynb\" target=\"_parent\"><img src=\"https://colab.research.google.com/assets/colab-badge.svg\" alt=\"Open In Colab\"/></a>"
      ]
    },
    {
      "cell_type": "markdown",
      "source": [
        "# Circadian period Q<sub>10</sub> calculator\n",
        "\n",
        "For usage, please take a look at:  \n",
        "[https://github.com/dxda6216/q10_two_temperatures](https://github.com/dxda6216/q10_two_temperatures)"
      ],
      "metadata": {
        "id": "6tSg2cQxA6Vb"
      }
    },
    {
      "cell_type": "code",
      "source": [
        "### This is a simple script to calculate Q10 values for circadian period on Colab.\n",
        "### Copyright (c) 2022 by dxda6216 (dxda6216 AT gmail DOT com)\n",
        "###\n",
        "#@title Q10\n",
        "import numpy as np\n",
        "from matplotlib import pyplot as plt\n",
        "\n",
        "# Data description (plot title)\n",
        "Data_description = \"U2OS cells with 10 nM compound VUXC046197 (NOT real data)\" #@param {type:\"string\"}\n",
        "\n",
        "# Temperature data 1\n",
        "Temperature_1 =  32.5#@param {type:\"number\"}\n",
        "\n",
        "# Period data 1\n",
        "Period_1 = 28.5 #@param {type:\"number\"}\n",
        "\n",
        "# Temperature data 2\n",
        "Temperature_2 =  37.2#@param {type:\"number\"}\n",
        "\n",
        "# Period data 2\n",
        "Period_2 =  24.2#@param {type:\"number\"}\n",
        "\n",
        "x = (Temperature_1, Temperature_2)\n",
        "y = (Period_1, Period_2)\n",
        "\n",
        "# Displaying Tab-delimited data Yes or No\n",
        "Display_tab_delimited_data = \"No\" #@param [\"No\", \"Yes\"]\n",
        "\n",
        "# Printing the data\n",
        "print('Period ', Period_1, 'hours at Temperature', Temperature_1, u'\\u00B0C')\n",
        "print('Period ', Period_2, 'hours at Temperature', Temperature_2, u'\\u00B0C', '\\n')\n",
        "\n",
        "# Set the starting and ending points of fitted curve.\n",
        "# These values are for plotting only and don't affect the Q10 calculation. \n",
        "fitted_curve_x_min = int( min(x) - ( max(x) - min(x) ) * 1.200 )\n",
        "fitted_curve_x_max = int( max(x) + ( max(x) - min(x) ) * 1.200 ) + 1\n",
        "\n",
        "print('Q10 = (', Period_1, '/', Period_2, ') ** ( 10 / (', Temperature_2, '-', Temperature_1, ') )', '\\n')\n",
        "\n",
        "fig = plt.figure(figsize = (8,6))\n",
        "plt.plot(x, y, 'o', color ='red', label ='data')\n",
        "\n",
        "if Temperature_1 == Temperature_2:\n",
        "  print('Temperature_1 and Temperature_2 are same and each equal to', Temperature_2)\n",
        "  print('Q10 value cannot be calculated.\\n')\n",
        "else:\n",
        "  Q10 = ( Period_1 / Period_2 ) ** ( 10 / ( Temperature_2 - Temperature_1 ) )\n",
        "  print(u'Q10 (temperature coefficient) =', '{:.3f}'.format(Q10), '\\n')\n",
        "  fcx = np.linspace(fitted_curve_x_min, fitted_curve_x_max, 200)\n",
        "  fcy = Period_1 / ( Q10 ** ( ( fcx - Temperature_1 ) * 0.100 ) )\n",
        "  plt.plot(fcx, fcy, '--', color='blue', label ='curve')\n",
        "\n",
        "### To adjust scales and ticks of X-axis & Y-axis, \n",
        "### change values in parentheses and remove #.\n",
        "# plt.xlim(25, 45)\n",
        "# plt.ylim(20, 30)\n",
        "# plt.xticks(np.arange(25, 46, 2))\n",
        "# plt.yticks(np.arange(20, 31, 1))\n",
        "\n",
        "plt.title(Data_description)\n",
        "plt.xlabel(u'Temperature (\\u00B0C)')\n",
        "plt.ylabel('Period (hours)')\n",
        "plt.legend()\n",
        "plt.show()\n",
        "\n",
        "if Display_tab_delimited_data == \"Yes\":\n",
        "  print(u'\\nDataset')\n",
        "  print (u'Temp (\\u00B0C)\\tPeriod (hours)')\n",
        "  ycount = 0\n",
        "  for xseq in x:\t\n",
        "    print(str(xseq)+'\\t'+str(y[ycount]))\n",
        "    ycount += 1\n",
        "\n",
        "  if Temperature_1 != Temperature_2:\n",
        "\t  print(u'\\nFitted Curve')\n",
        "\t  print (u'Temp (\\u00B0C)\\tPeriod (hours)')\n",
        "\t  fcycount = 0\n",
        "\t  for fcxseq in fcx:\t\n",
        "\t\t  print('{:.3f}'.format(fcxseq)+'\\t'+'{:.3f}'.format(fcy[fcycount]))\n",
        "\t\t  fcycount += 1\n",
        "\n",
        "### End of script\n"
      ],
      "metadata": {
        "cellView": "form",
        "id": "Gnt_NGkKBaki"
      },
      "execution_count": null,
      "outputs": []
    }
  ]
}